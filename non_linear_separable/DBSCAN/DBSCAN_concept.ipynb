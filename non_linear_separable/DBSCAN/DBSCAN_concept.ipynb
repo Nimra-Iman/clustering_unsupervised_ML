{
 "cells": [
  {
   "cell_type": "code",
   "execution_count": null,
   "id": "77f178f3-f325-4d9b-b5c4-48624672e68b",
   "metadata": {},
   "outputs": [],
   "source": [
    "DBSCAN  stands for '''DENSITY BASED SPETIAL CLUSTERING of APPLICATION with NOISE'''\n",
    "--> jha density ziada hoti us ko ek cluster m daal deti h\n",
    "\n",
    "              \n",
    "----> it is good for non -linear data and can easily detect outliers"
   ]
  },
  {
   "cell_type": "code",
   "execution_count": null,
   "id": "4120036d-96f5-4890-b3b7-78a395959d54",
   "metadata": {},
   "outputs": [],
   "source": [
    "is ka ader kuch cheezy ati hn such as:\n",
    "----<> Min point\n",
    "----<> abselon (which is radius)\n",
    "----<> core point\n",
    "----<> boundary point\n",
    "----<> noise point"
   ]
  },
  {
   "cell_type": "code",
   "execution_count": null,
   "id": "0aa9202a-a057-4129-8dd8-eb8ba653686b",
   "metadata": {},
   "outputs": [],
   "source": [
    "hm ek data point pick krty hn and us k ird gird circle bnaty hn jis ka radius abselon (jo k hm bnatyn gy)\n",
    "k equal ho ga and us k ander jo total points ayn gy vo utny hon gy jo hm n min points btay hin gy, e.g: Abselon\n",
    "is 0.5 and min points are 4 and data point pich kia say A, to A k ird gird 0.4 radius ka circle bnay gy or us circle k ander A \n",
    "samet minimum 4 points a skty hn, ab core point s murad hmara vhi circle h and boudary point tab ay ga jan kisi data point k\n",
    "ander circle bnany gy to min point jitny data points na skty hun to vo boundary point ho ga yani cluster vhi ruk jay ga\n",
    "and noise point vo points hon gy k jin k irdgird koi min points jitny data points na hon , yani hm un k ird gird core point\n",
    "na bna sky to vo noise points hon gy yani actually vo outliers hon gy"
   ]
  }
 ],
 "metadata": {
  "kernelspec": {
   "display_name": "Python 3 (ipykernel)",
   "language": "python",
   "name": "python3"
  },
  "language_info": {
   "codemirror_mode": {
    "name": "ipython",
    "version": 3
   },
   "file_extension": ".py",
   "mimetype": "text/x-python",
   "name": "python",
   "nbconvert_exporter": "python",
   "pygments_lexer": "ipython3",
   "version": "3.12.2"
  }
 },
 "nbformat": 4,
 "nbformat_minor": 5
}
